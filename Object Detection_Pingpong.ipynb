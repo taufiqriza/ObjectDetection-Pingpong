{
 "cells": [
  {
   "cell_type": "code",
   "execution_count": 24,
   "id": "1e8a069e",
   "metadata": {},
   "outputs": [],
   "source": [
    "import os\n",
    "import cv2\n",
    "import numpy as np\n",
    "import matplotlib.pyplot as plt\n",
    "import math\n",
    "import time\n",
    "import datetime"
   ]
  },
  {
   "cell_type": "code",
   "execution_count": 25,
   "id": "1bc70cb0",
   "metadata": {},
   "outputs": [
    {
     "name": "stdout",
     "output_type": "stream",
     "text": [
      "['video1.mp4', 'video2.mp4']\n"
     ]
    }
   ],
   "source": [
    "dataset_dir = \"dataset/\"\n",
    "\n",
    "filenames = os.listdir(dataset_dir)\n",
    "\n",
    "print(filenames)"
   ]
  },
  {
   "cell_type": "markdown",
   "id": "665e63f9",
   "metadata": {},
   "source": [
    "**1. Dasar membaca dan menampilkan gambar pada OpenCV**"
   ]
  },
  {
   "cell_type": "code",
   "execution_count": 27,
   "id": "04e322fa",
   "metadata": {},
   "outputs": [],
   "source": [
    "img = cv2.imread('sample/blocks.jpg')\n",
    "\n",
    "cv2.imshow('blocks',img)\n",
    "cv2.waitKey(0)\n",
    "cv2.destroyAllWindows()"
   ]
  },
  {
   "cell_type": "markdown",
   "id": "58ec2eb7",
   "metadata": {},
   "source": [
    "**2. Dasar membaca dan menampikan video pada OpenCV**"
   ]
  },
  {
   "cell_type": "code",
   "execution_count": 28,
   "id": "aeb9bafe",
   "metadata": {},
   "outputs": [],
   "source": [
    "cap = cv2.VideoCapture('dataset/video1.mp4')\n",
    "\n",
    "while cap.isOpened():\n",
    "    ret, frame = cap.read()\n",
    "    \n",
    "    if ret:\n",
    "        frame = cv2.resize(frame, (0,0), fx=0.5, fy=0.5)\n",
    "        cv2.imshow('video 1', frame)\n",
    "        \n",
    "        if cv2.waitKey(25) == ord('q'):\n",
    "            break\n",
    "    else :\n",
    "        break\n",
    "        \n",
    "cap.release()\n",
    "cv2.destroyAllWindows() "
   ]
  },
  {
   "cell_type": "markdown",
   "id": "3faa0fb1",
   "metadata": {},
   "source": [
    "**3. Dasar Image Masking menggunakan bitwise_and**"
   ]
  },
  {
   "cell_type": "code",
   "execution_count": 29,
   "id": "92811468",
   "metadata": {},
   "outputs": [],
   "source": [
    "img = cv2.imread('sample/lena.jpg')\n",
    "\n",
    "mask = np.zeros_like(img[:,:,0])\n",
    "h, w = mask.shape\n",
    "\n",
    "cv2.circle(mask, (h//2, w//2), 150, (255, 255, 255), -1)\n",
    "\n",
    "res = cv2.bitwise_and(img, img, mask=mask)\n",
    "\n",
    "cv2.imshow('frame', img)\n",
    "cv2.imshow('res',res)\n",
    "cv2.imshow('mask',mask)\n",
    "cv2.waitKey(0)\n",
    "cv2.destroyAllWindows()"
   ]
  },
  {
   "cell_type": "code",
   "execution_count": 30,
   "id": "f18719a8",
   "metadata": {},
   "outputs": [],
   "source": [
    "lower = np.array([110, 50, 50])\n",
    "upper = np.array([130, 255, 255])\n",
    "\n",
    "img = cv2.imread('sample/blocks.jpg')\n",
    "\n",
    "hsv = cv2.cvtColor(img, cv2.COLOR_BGR2HSV)\n",
    "mask = cv2.inRange(hsv.copy(), lower, upper)\n",
    "res = cv2.bitwise_and(img, img, mask=mask)\n",
    "\n",
    "cv2.imshow('frame',img)\n",
    "cv2.imshow('res',res)\n",
    "cv2.imshow('mask',mask)\n",
    "cv2.waitKey(0)\n",
    "cv2.destroyAllWindows()"
   ]
  },
  {
   "cell_type": "code",
   "execution_count": 7,
   "id": "7848ec24",
   "metadata": {},
   "outputs": [
    {
     "data": {
      "text/plain": [
       "'video1.mp4'"
      ]
     },
     "execution_count": 7,
     "metadata": {},
     "output_type": "execute_result"
    }
   ],
   "source": [
    "filenames[0]"
   ]
  },
  {
   "cell_type": "code",
   "execution_count": 9,
   "id": "af705f50",
   "metadata": {},
   "outputs": [
    {
     "data": {
      "text/plain": [
       "(360, 480, 3)"
      ]
     },
     "execution_count": 9,
     "metadata": {},
     "output_type": "execute_result"
    }
   ],
   "source": [
    "img.shape"
   ]
  },
  {
   "cell_type": "markdown",
   "id": "747ee371",
   "metadata": {},
   "source": [
    "**Shape based (Hough Circle Transform)**"
   ]
  },
  {
   "cell_type": "code",
   "execution_count": 23,
   "id": "5c653fa9",
   "metadata": {},
   "outputs": [],
   "source": [
    "img = cv2.imread('sample/eye.jpg')\n",
    "h, w, c = img.shape\n",
    "\n",
    "gray = cv2.cvtColor(img, cv2.COLOR_BGR2GRAY)\n",
    "\n",
    "circles = cv2.HoughCircles(gray, cv2.HOUGH_GRADIENT, 1, h/64, param1=200, param2=17, minRadius=21, maxRadius=30)\n",
    "\n",
    "if circles is not None:\n",
    "    circles = np.uint16(np.around(circles))[0]\n",
    "    for i in circles:\n",
    "        cv2.circle(img, (i[0], i[1]), i[2], (0, 255, 0), 2)\n",
    "        font = cv2.FONT_HERSHEY_SIMPLEX\n",
    "        cv2.putText(res, 'Ball', (10, 300), font, 2, (0,0,255), 1, cv2.LINE_AA)\n",
    "        \n",
    "cv2.imshow(\"output\", img)\n",
    "cv2.waitKey(0)\n",
    "cv2.destroyAllWindows()"
   ]
  },
  {
   "cell_type": "code",
   "execution_count": 31,
   "id": "31589279",
   "metadata": {},
   "outputs": [],
   "source": [
    "# Fungsi deteksi warna\n",
    "def detectColor(img, lower, upper):\n",
    "    hsv = cv2.cvtColor(img, cv2.COLOR_BGR2HSV)\n",
    "    mask = cv2.inRange(hsv.copy(), lower, upper)\n",
    "    res = cv2.bitwise_and(img, img, mask=mask)  #bitwise opration\n",
    "    return res\n"
   ]
  },
  {
   "cell_type": "code",
   "execution_count": 32,
   "id": "1b2f66da",
   "metadata": {},
   "outputs": [],
   "source": [
    "# Fungsi membuat trace pada contour\n",
    "def findContourCircle(res):\n",
    "        x, y, r = 0, 0, 0\n",
    "        gray = cv2.cvtColor(res, cv2.COLOR_BGR2GRAY)\n",
    "        contours, hierarchy = cv2.findContours(gray, cv2.RETR_EXTERNAL, cv2.CHAIN_APPROX_NONE)\n",
    "        circle = []\n",
    "        for cnt in contours:\n",
    "            (x,y), radius = cv2.rectangle(cnt)\n",
    "            \n",
    "            if radius > 10: \n",
    "                circle.append([int(x), int(y), int(radius)])\n",
    "        \n",
    "        if len(circle) > 0 :\n",
    "            circle = np.array(circle)\n",
    "            x = int(np.mean(circle[:, 0]))\n",
    "            y = int(np.mean(circle[:, 1]))\n",
    "            r = int(np.mean(circle[:, 2]))\n",
    "            \n",
    "        return x, y, r"
   ]
  },
  {
   "cell_type": "code",
   "execution_count": 33,
   "id": "2bad0321",
   "metadata": {},
   "outputs": [],
   "source": [
    "# Dictonary penyimpanan warna\n",
    "color_ranges = dict(\n",
    "    blue = dict(\n",
    "        lower = np.array([110, 50, 50]),\n",
    "        upper = np.array([130, 255, 255])\n",
    "    ),\n",
    "    orange = dict(\n",
    "        lower = np.array([10, 50, 50]),\n",
    "        upper = np.array([20, 255, 255])\n",
    "    )\n",
    ")\n",
    "\n",
    "availabel_colors = color_ranges.keys()"
   ]
  },
  {
   "cell_type": "code",
   "execution_count": 34,
   "id": "487265aa",
   "metadata": {},
   "outputs": [],
   "source": [
    "# Extraksi bentuk lingkaran yang tidak sempurna\n",
    "def findCircelHoug(img):\n",
    "    rs = []\n",
    "    x, y, r = 0, 0, 0\n",
    "    h, w , c = img.shape\n",
    "    gray = cv2.cvtColor(img, cv2.COLOR_BGR2GRAY)\n",
    "    \n",
    "    ret, binary = cv2.threshold(gray, 50, 255, cv2.THRESH_BINARY_INV)\n",
    "    \n",
    "    edge = cv2.Canny(binary, 100, 200)\n",
    "    \n",
    "    binary = cv2.resize(binary, (0,0), fx=1, fy=1)\n",
    "    cv2.imshow(\"binary\", binary)\n",
    "    \n",
    "    circles = cv2.HoughCircles(edge, cv2.HOUGH_GRADIENT, 1, h/64, param1=150, param2=20, minRadius=50, maxRadius=100)\n",
    "        \n",
    "    if circles is not None:\n",
    "        circles = np.uint16(np.around(circles))[0]\n",
    "        x = int(np.mean(circles[:, 0]))\n",
    "        y = int(np.mean(circles[:, 1]))\n",
    "        rs.append(np.mean(circles[:, 2]))\n",
    "        r = int(np.mean(rs))\n",
    "        \n",
    "    return x, y, r"
   ]
  },
  {
   "cell_type": "markdown",
   "id": "7ecbee85",
   "metadata": {},
   "source": [
    "**Deteksi Objek** <br/> \n",
    "**Konsep 1. Color Based (range thresholding)** <br/>\n",
    "**Konsep 2. Shape Based (hough circle transform)** <br/>"
   ]
  },
  {
   "cell_type": "code",
   "execution_count": 36,
   "id": "3aa37e12",
   "metadata": {},
   "outputs": [
    {
     "name": "stdout",
     "output_type": "stream",
     "text": [
      "pilih warna [blue/orange] :blue\n"
     ]
    }
   ],
   "source": [
    "color_input = input(\"pilih warna [blue/orange] :\")\n",
    "\n",
    "while color_input not in availabel_colors:\n",
    "    color_input = input(\"%s tidak ditemukan, pilih warna [blue/orange] :\" % color_input)\n",
    "\n",
    "# filename = filenames[0]\n",
    "cap = cv2.VideoCapture(0)\n",
    "\n",
    "while cap.isOpened():\n",
    "    ret, img = cap.read()\n",
    "    \n",
    "    if ret:\n",
    "        color = color_ranges[color_input]\n",
    "        res = detectColor(img, color['lower'], color['upper'])\n",
    "        \n",
    "        x, y, r = findCircelHoug(res)\n",
    "        cv2.circle(img, (x, y), r, (255, 0, 255), 2)\n",
    "        \n",
    "        res = cv2.resize(res, (0,0), fx=1, fy=1)\n",
    "        img = cv2.resize(img, (0,0), fx=1, fy=1)\n",
    "        \n",
    "        cv2.imshow(filename + \" - detected\", res)\n",
    "        cv2.imshow(filename, img)\n",
    "        \n",
    "        if cv2.waitKey(25) == ord('q'):\n",
    "            break\n",
    "    else :\n",
    "        break\n",
    "        \n",
    "cap.release()\n",
    "cv2.destroyAllWindows()"
   ]
  }
 ],
 "metadata": {
  "kernelspec": {
   "display_name": "Python 3 (ipykernel)",
   "language": "python",
   "name": "python3"
  },
  "language_info": {
   "codemirror_mode": {
    "name": "ipython",
    "version": 3
   },
   "file_extension": ".py",
   "mimetype": "text/x-python",
   "name": "python",
   "nbconvert_exporter": "python",
   "pygments_lexer": "ipython3",
   "version": "3.10.5"
  }
 },
 "nbformat": 4,
 "nbformat_minor": 5
}
